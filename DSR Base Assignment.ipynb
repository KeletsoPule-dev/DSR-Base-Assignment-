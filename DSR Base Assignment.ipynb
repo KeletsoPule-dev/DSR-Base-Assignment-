{
 "cells": [
  {
   "cell_type": "markdown",
   "id": "569a8cdc",
   "metadata": {},
   "source": [
    "# Keletso Pule - Assessment"
   ]
  },
  {
   "cell_type": "code",
   "execution_count": 1,
   "id": "a022dcdf",
   "metadata": {},
   "outputs": [],
   "source": [
    "import pandas as pd\n",
    "from matplotlib import pyplot as plt\n",
    "import numpy as np\n"
   ]
  },
  {
   "cell_type": "markdown",
   "id": "d25108b2",
   "metadata": {},
   "source": [
    "### Question 1"
   ]
  },
  {
   "cell_type": "code",
   "execution_count": 99,
   "id": "e6ce539d",
   "metadata": {},
   "outputs": [],
   "source": [
    "df = pd.read_excel(\"pone.0212445.s004.xlsx\")"
   ]
  },
  {
   "cell_type": "code",
   "execution_count": 102,
   "id": "a02c07e3",
   "metadata": {},
   "outputs": [],
   "source": [
    "df = df.rename(columns={df.columns[0]:'District',df.columns[1]:'Code',df.columns[2]:'Estimate',df.columns[3]:'Prevalence_%',\n",
    "                   df.columns[4]:'Prevalence_LCL',df.columns[5]:'Prevalence_UCL',df.columns[6]:'NoPLHIV',\n",
    "                   df.columns[7]:'NoPLHIV_LCL',df.columns[8]:'NoPLHIV_UCL'})"
   ]
  },
  {
   "cell_type": "code",
   "execution_count": 103,
   "id": "1835a82e",
   "metadata": {},
   "outputs": [
    {
     "data": {
      "text/html": [
       "<div>\n",
       "<style scoped>\n",
       "    .dataframe tbody tr th:only-of-type {\n",
       "        vertical-align: middle;\n",
       "    }\n",
       "\n",
       "    .dataframe tbody tr th {\n",
       "        vertical-align: top;\n",
       "    }\n",
       "\n",
       "    .dataframe thead th {\n",
       "        text-align: right;\n",
       "    }\n",
       "</style>\n",
       "<table border=\"1\" class=\"dataframe\">\n",
       "  <thead>\n",
       "    <tr style=\"text-align: right;\">\n",
       "      <th></th>\n",
       "      <th>District</th>\n",
       "      <th>Code</th>\n",
       "      <th>Estimate</th>\n",
       "      <th>Prevalence_%</th>\n",
       "      <th>Prevalence_LCL</th>\n",
       "      <th>Prevalence_UCL</th>\n",
       "      <th>NoPLHIV</th>\n",
       "      <th>NoPLHIV_LCL</th>\n",
       "      <th>NoPLHIV_UCL</th>\n",
       "    </tr>\n",
       "  </thead>\n",
       "  <tbody>\n",
       "    <tr>\n",
       "      <th>0</th>\n",
       "      <td>District</td>\n",
       "      <td>Code</td>\n",
       "      <td>Estimate</td>\n",
       "      <td>Prevalence_%</td>\n",
       "      <td>Prevalence_LCL</td>\n",
       "      <td>Prevalence_UCL</td>\n",
       "      <td>NoPLHIV</td>\n",
       "      <td>NoPLHIV_LCL</td>\n",
       "      <td>NoPLHIV_UCL</td>\n",
       "    </tr>\n",
       "    <tr>\n",
       "      <th>1</th>\n",
       "      <td>Buffalo City</td>\n",
       "      <td>BUF</td>\n",
       "      <td>Survey</td>\n",
       "      <td>13.6</td>\n",
       "      <td>10.268</td>\n",
       "      <td>16.932</td>\n",
       "      <td>102437</td>\n",
       "      <td>77340</td>\n",
       "      <td>127534</td>\n",
       "    </tr>\n",
       "    <tr>\n",
       "      <th>2</th>\n",
       "      <td>Buffalo City</td>\n",
       "      <td>BUF</td>\n",
       "      <td>Fay-Heriott</td>\n",
       "      <td>13.501283</td>\n",
       "      <td>11.031605</td>\n",
       "      <td>16.421802</td>\n",
       "      <td>101693</td>\n",
       "      <td>83092</td>\n",
       "      <td>123691</td>\n",
       "    </tr>\n",
       "    <tr>\n",
       "      <th>3</th>\n",
       "      <td>City of Cape Town</td>\n",
       "      <td>CPT</td>\n",
       "      <td>Survey</td>\n",
       "      <td>5.2</td>\n",
       "      <td>3.044</td>\n",
       "      <td>7.356</td>\n",
       "      <td>200751</td>\n",
       "      <td>117517</td>\n",
       "      <td>283985</td>\n",
       "    </tr>\n",
       "    <tr>\n",
       "      <th>4</th>\n",
       "      <td>City of Cape Town</td>\n",
       "      <td>CPT</td>\n",
       "      <td>Fay-Heriott</td>\n",
       "      <td>6.020043</td>\n",
       "      <td>4.335072</td>\n",
       "      <td>8.303091</td>\n",
       "      <td>232409</td>\n",
       "      <td>167359</td>\n",
       "      <td>320548</td>\n",
       "    </tr>\n",
       "  </tbody>\n",
       "</table>\n",
       "</div>"
      ],
      "text/plain": [
       "            District  Code     Estimate  Prevalence_%  Prevalence_LCL  \\\n",
       "0           District  Code     Estimate  Prevalence_%  Prevalence_LCL   \n",
       "1       Buffalo City   BUF       Survey          13.6          10.268   \n",
       "2       Buffalo City   BUF  Fay-Heriott     13.501283       11.031605   \n",
       "3  City of Cape Town   CPT       Survey           5.2           3.044   \n",
       "4  City of Cape Town   CPT  Fay-Heriott      6.020043        4.335072   \n",
       "\n",
       "   Prevalence_UCL  NoPLHIV  NoPLHIV_LCL  NoPLHIV_UCL  \n",
       "0  Prevalence_UCL  NoPLHIV  NoPLHIV_LCL  NoPLHIV_UCL  \n",
       "1          16.932   102437        77340       127534  \n",
       "2       16.421802   101693        83092       123691  \n",
       "3           7.356   200751       117517       283985  \n",
       "4        8.303091   232409       167359       320548  "
      ]
     },
     "execution_count": 103,
     "metadata": {},
     "output_type": "execute_result"
    }
   ],
   "source": [
    "df.head()"
   ]
  },
  {
   "cell_type": "code",
   "execution_count": 82,
   "id": "ce6de07c",
   "metadata": {},
   "outputs": [
    {
     "data": {
      "text/html": [
       "<div>\n",
       "<style scoped>\n",
       "    .dataframe tbody tr th:only-of-type {\n",
       "        vertical-align: middle;\n",
       "    }\n",
       "\n",
       "    .dataframe tbody tr th {\n",
       "        vertical-align: top;\n",
       "    }\n",
       "\n",
       "    .dataframe thead th {\n",
       "        text-align: right;\n",
       "    }\n",
       "</style>\n",
       "<table border=\"1\" class=\"dataframe\">\n",
       "  <thead>\n",
       "    <tr style=\"text-align: right;\">\n",
       "      <th></th>\n",
       "      <th>District</th>\n",
       "      <th>Code</th>\n",
       "      <th>Estimate</th>\n",
       "      <th>Prevalence_%</th>\n",
       "      <th>Prevalence_LCL</th>\n",
       "      <th>Prevalence_UCL</th>\n",
       "      <th>NoPLHIV</th>\n",
       "      <th>NoPLHIV_LCL</th>\n",
       "      <th>NoPLHIV_UCL</th>\n",
       "      <th>Non_Prevalence%</th>\n",
       "    </tr>\n",
       "  </thead>\n",
       "  <tbody>\n",
       "    <tr>\n",
       "      <th>1</th>\n",
       "      <td>Buffalo City</td>\n",
       "      <td>BUF</td>\n",
       "      <td>Survey</td>\n",
       "      <td>13.6</td>\n",
       "      <td>10.268</td>\n",
       "      <td>16.932</td>\n",
       "      <td>102437</td>\n",
       "      <td>77340</td>\n",
       "      <td>127534</td>\n",
       "      <td>86.400000</td>\n",
       "    </tr>\n",
       "    <tr>\n",
       "      <th>2</th>\n",
       "      <td>Buffalo City</td>\n",
       "      <td>BUF</td>\n",
       "      <td>Fay-Heriott</td>\n",
       "      <td>13.501283</td>\n",
       "      <td>11.031605</td>\n",
       "      <td>16.421802</td>\n",
       "      <td>101693</td>\n",
       "      <td>83092</td>\n",
       "      <td>123691</td>\n",
       "      <td>86.498717</td>\n",
       "    </tr>\n",
       "    <tr>\n",
       "      <th>3</th>\n",
       "      <td>City of Cape Town</td>\n",
       "      <td>CPT</td>\n",
       "      <td>Survey</td>\n",
       "      <td>5.2</td>\n",
       "      <td>3.044</td>\n",
       "      <td>7.356</td>\n",
       "      <td>200751</td>\n",
       "      <td>117517</td>\n",
       "      <td>283985</td>\n",
       "      <td>94.800000</td>\n",
       "    </tr>\n",
       "    <tr>\n",
       "      <th>4</th>\n",
       "      <td>City of Cape Town</td>\n",
       "      <td>CPT</td>\n",
       "      <td>Fay-Heriott</td>\n",
       "      <td>6.020043</td>\n",
       "      <td>4.335072</td>\n",
       "      <td>8.303091</td>\n",
       "      <td>232409</td>\n",
       "      <td>167359</td>\n",
       "      <td>320548</td>\n",
       "      <td>93.979957</td>\n",
       "    </tr>\n",
       "    <tr>\n",
       "      <th>5</th>\n",
       "      <td>West Coast</td>\n",
       "      <td>DC1</td>\n",
       "      <td>Survey</td>\n",
       "      <td>2.7</td>\n",
       "      <td>0</td>\n",
       "      <td>5.444</td>\n",
       "      <td>11302</td>\n",
       "      <td>0</td>\n",
       "      <td>22789</td>\n",
       "      <td>97.300000</td>\n",
       "    </tr>\n",
       "    <tr>\n",
       "      <th>...</th>\n",
       "      <td>...</td>\n",
       "      <td>...</td>\n",
       "      <td>...</td>\n",
       "      <td>...</td>\n",
       "      <td>...</td>\n",
       "      <td>...</td>\n",
       "      <td>...</td>\n",
       "      <td>...</td>\n",
       "      <td>...</td>\n",
       "      <td>...</td>\n",
       "    </tr>\n",
       "    <tr>\n",
       "      <th>100</th>\n",
       "      <td>Mangaung</td>\n",
       "      <td>MAN</td>\n",
       "      <td>Fay-Heriott</td>\n",
       "      <td>9.147425</td>\n",
       "      <td>6.725917</td>\n",
       "      <td>12.325536</td>\n",
       "      <td>101520</td>\n",
       "      <td>74646</td>\n",
       "      <td>136792</td>\n",
       "      <td>90.852575</td>\n",
       "    </tr>\n",
       "    <tr>\n",
       "      <th>101</th>\n",
       "      <td>Nelson Mandela Bay Metro</td>\n",
       "      <td>NMA</td>\n",
       "      <td>Survey</td>\n",
       "      <td>8.3</td>\n",
       "      <td>3.4</td>\n",
       "      <td>13.2</td>\n",
       "      <td>97459</td>\n",
       "      <td>39923</td>\n",
       "      <td>154995</td>\n",
       "      <td>91.700000</td>\n",
       "    </tr>\n",
       "    <tr>\n",
       "      <th>102</th>\n",
       "      <td>Nelson Mandela Bay Metro</td>\n",
       "      <td>NMA</td>\n",
       "      <td>Fay-Heriott</td>\n",
       "      <td>9.05406</td>\n",
       "      <td>6.128703</td>\n",
       "      <td>13.179704</td>\n",
       "      <td>106313</td>\n",
       "      <td>71964</td>\n",
       "      <td>154757</td>\n",
       "      <td>90.945940</td>\n",
       "    </tr>\n",
       "    <tr>\n",
       "      <th>103</th>\n",
       "      <td>City of Tshwane</td>\n",
       "      <td>TSH</td>\n",
       "      <td>Survey</td>\n",
       "      <td>11.7</td>\n",
       "      <td>7.388</td>\n",
       "      <td>16.012</td>\n",
       "      <td>361450</td>\n",
       "      <td>228239</td>\n",
       "      <td>494661</td>\n",
       "      <td>88.300000</td>\n",
       "    </tr>\n",
       "    <tr>\n",
       "      <th>104</th>\n",
       "      <td>City of Tshwane</td>\n",
       "      <td>TSH</td>\n",
       "      <td>Fay-Heriott</td>\n",
       "      <td>11.024858</td>\n",
       "      <td>8.255934</td>\n",
       "      <td>14.574909</td>\n",
       "      <td>340593</td>\n",
       "      <td>255052</td>\n",
       "      <td>450265</td>\n",
       "      <td>88.975142</td>\n",
       "    </tr>\n",
       "  </tbody>\n",
       "</table>\n",
       "<p>104 rows × 10 columns</p>\n",
       "</div>"
      ],
      "text/plain": [
       "                     District Code     Estimate Prevalence_% Prevalence_LCL  \\\n",
       "1                Buffalo City  BUF       Survey         13.6         10.268   \n",
       "2                Buffalo City  BUF  Fay-Heriott    13.501283      11.031605   \n",
       "3           City of Cape Town  CPT       Survey          5.2          3.044   \n",
       "4           City of Cape Town  CPT  Fay-Heriott     6.020043       4.335072   \n",
       "5                  West Coast  DC1       Survey          2.7              0   \n",
       "..                        ...  ...          ...          ...            ...   \n",
       "100                  Mangaung  MAN  Fay-Heriott     9.147425       6.725917   \n",
       "101  Nelson Mandela Bay Metro  NMA       Survey          8.3            3.4   \n",
       "102  Nelson Mandela Bay Metro  NMA  Fay-Heriott      9.05406       6.128703   \n",
       "103           City of Tshwane  TSH       Survey         11.7          7.388   \n",
       "104           City of Tshwane  TSH  Fay-Heriott    11.024858       8.255934   \n",
       "\n",
       "    Prevalence_UCL NoPLHIV NoPLHIV_LCL NoPLHIV_UCL  Non_Prevalence%  \n",
       "1           16.932  102437       77340      127534        86.400000  \n",
       "2        16.421802  101693       83092      123691        86.498717  \n",
       "3            7.356  200751      117517      283985        94.800000  \n",
       "4         8.303091  232409      167359      320548        93.979957  \n",
       "5            5.444   11302           0       22789        97.300000  \n",
       "..             ...     ...         ...         ...              ...  \n",
       "100      12.325536  101520       74646      136792        90.852575  \n",
       "101           13.2   97459       39923      154995        91.700000  \n",
       "102      13.179704  106313       71964      154757        90.945940  \n",
       "103         16.012  361450      228239      494661        88.300000  \n",
       "104      14.574909  340593      255052      450265        88.975142  \n",
       "\n",
       "[104 rows x 10 columns]"
      ]
     },
     "execution_count": 82,
     "metadata": {},
     "output_type": "execute_result"
    }
   ],
   "source": [
    "df"
   ]
  },
  {
   "cell_type": "markdown",
   "id": "00d31ea4",
   "metadata": {},
   "source": [
    "### Question 2"
   ]
  },
  {
   "cell_type": "markdown",
   "id": "f257bab4",
   "metadata": {},
   "source": [
    "#### Q2A"
   ]
  },
  {
   "cell_type": "code",
   "execution_count": 133,
   "id": "9c503abd",
   "metadata": {},
   "outputs": [
    {
     "data": {
      "text/plain": [
       "105"
      ]
     },
     "execution_count": 133,
     "metadata": {},
     "output_type": "execute_result"
    }
   ],
   "source": [
    "df['NoPLHIV'].count()"
   ]
  },
  {
   "cell_type": "markdown",
   "id": "9ddc0fe5",
   "metadata": {},
   "source": [
    "#### Q2B"
   ]
  },
  {
   "cell_type": "code",
   "execution_count": 134,
   "id": "64616280",
   "metadata": {},
   "outputs": [
    {
     "data": {
      "text/plain": [
       "array(['Estimate', 'Survey', 'Fay-Heriott'], dtype=object)"
      ]
     },
     "execution_count": 134,
     "metadata": {},
     "output_type": "execute_result"
    }
   ],
   "source": [
    "df['Estimate'].unique()"
   ]
  },
  {
   "cell_type": "code",
   "execution_count": 135,
   "id": "04600b2d",
   "metadata": {},
   "outputs": [],
   "source": [
    "Survey = df[df['Estimate']=='Survey']"
   ]
  },
  {
   "cell_type": "code",
   "execution_count": 136,
   "id": "2043af7f",
   "metadata": {},
   "outputs": [],
   "source": [
    "NoPLHIV = Survey['NoPLHIV'].astype(int).sum()"
   ]
  },
  {
   "cell_type": "code",
   "execution_count": 137,
   "id": "bfed002f",
   "metadata": {},
   "outputs": [
    {
     "data": {
      "text/plain": [
       "6409903"
      ]
     },
     "execution_count": 137,
     "metadata": {},
     "output_type": "execute_result"
    }
   ],
   "source": [
    "NoPLHIV"
   ]
  },
  {
   "cell_type": "markdown",
   "id": "c270b58a",
   "metadata": {},
   "source": [
    "Number of people living with NoPLHIV across all the districts with Survey estimate is 6409903"
   ]
  },
  {
   "cell_type": "code",
   "execution_count": 55,
   "id": "51aea850",
   "metadata": {},
   "outputs": [
    {
     "data": {
      "text/plain": [
       "12247.5"
      ]
     },
     "execution_count": 55,
     "metadata": {},
     "output_type": "execute_result"
    }
   ],
   "source": [
    "df[df['District']=='Xhariep']['NoPLHIV'].mean()"
   ]
  },
  {
   "cell_type": "markdown",
   "id": "a055fc55",
   "metadata": {},
   "source": [
    "Average number of people in Xariep (for both estimates) living with NoPLHIV are 12247.5"
   ]
  },
  {
   "cell_type": "markdown",
   "id": "a1e7cf2b",
   "metadata": {},
   "source": [
    "#### Q2C"
   ]
  },
  {
   "cell_type": "code",
   "execution_count": 58,
   "id": "83a9c290",
   "metadata": {},
   "outputs": [],
   "source": [
    "df['Non_Prevalence%'] = 100 - df['Prevalence_%'].astype(float) "
   ]
  },
  {
   "cell_type": "markdown",
   "id": "7594b0d1",
   "metadata": {},
   "source": [
    "Added a column (Non_Prevalence%) that has the percentage of the people that tested but weren't infected across all disctrics"
   ]
  },
  {
   "cell_type": "markdown",
   "id": "b7196e17",
   "metadata": {},
   "source": [
    "#### Q2D"
   ]
  },
  {
   "cell_type": "code",
   "execution_count": 159,
   "id": "b9944895",
   "metadata": {},
   "outputs": [],
   "source": [
    "city_df = df[df['District'].str.contains('City')]\n",
    "metro_df = df[df['District'].str.contains('Metro')]"
   ]
  },
  {
   "cell_type": "code",
   "execution_count": 168,
   "id": "5bfb2fa0",
   "metadata": {},
   "outputs": [
    {
     "name": "stdout",
     "output_type": "stream",
     "text": [
      "The total NoPLHIV in all the cities (districts with “city” or “metro” in the name) 2572733\n"
     ]
    }
   ],
   "source": [
    "total=city_df['NoPLHIV'].astype(int).sum()+metro_df['NoPLHIV'].astype(int).sum()\n",
    "print( 'The total NoPLHIV in all the cities (districts with “city” or “metro” in the name)' ,total)"
   ]
  },
  {
   "cell_type": "markdown",
   "id": "39871fdb",
   "metadata": {},
   "source": [
    "### Question 3"
   ]
  },
  {
   "cell_type": "code",
   "execution_count": 90,
   "id": "25ee0212",
   "metadata": {},
   "outputs": [
    {
     "name": "stderr",
     "output_type": "stream",
     "text": [
      "/Users/keletso/anaconda3/lib/python3.7/site-packages/ipykernel_launcher.py:2: FutureWarning: The default value of regex will change from True to False in a future version.\n",
      "  \n"
     ]
    },
    {
     "data": {
      "text/plain": [
       "Index(['District', 'Code', 'Estimate', 'Prevalence', 'PrevalenceLCL',\n",
       "       'PrevalenceUCL', 'NoPLHIV', 'NoPLHIVLCL', 'NoPLHIVUCL',\n",
       "       'NonPrevalence'],\n",
       "      dtype='object')"
      ]
     },
     "execution_count": 90,
     "metadata": {},
     "output_type": "execute_result"
    }
   ],
   "source": [
    "\n",
    "# remove special character\n",
    "df.columns=df.columns.str.replace('[%,#,@,&,_]','')\n",
    "  \n",
    "df.columns"
   ]
  },
  {
   "cell_type": "code",
   "execution_count": 109,
   "id": "949b9716",
   "metadata": {},
   "outputs": [
    {
     "data": {
      "text/plain": [
       "0                      District\n",
       "1                  Buffalo City\n",
       "2                  Buffalo City\n",
       "3             City of Cape Town\n",
       "4             City of Cape Town\n",
       "                 ...           \n",
       "100                    Mangaung\n",
       "101    Nelson Mandela Bay Metro\n",
       "102    Nelson Mandela Bay Metro\n",
       "103             City of Tshwane\n",
       "104             City of Tshwane\n",
       "Name: District, Length: 105, dtype: object"
      ]
     },
     "execution_count": 109,
     "metadata": {},
     "output_type": "execute_result"
    }
   ],
   "source": [
    "df['District']"
   ]
  },
  {
   "cell_type": "markdown",
   "id": "e5e94bda",
   "metadata": {},
   "source": [
    "## Question 4: Confidence Interval"
   ]
  },
  {
   "cell_type": "markdown",
   "id": "f7358bdc",
   "metadata": {},
   "source": [
    "#### Prevalence_LCL"
   ]
  },
  {
   "cell_type": "code",
   "execution_count": 176,
   "id": "3f7f689e",
   "metadata": {},
   "outputs": [
    {
     "data": {
      "text/plain": [
       "([<matplotlib.axis.YTick at 0x128d3b080>,\n",
       "  <matplotlib.axis.YTick at 0x128d3ec50>,\n",
       "  <matplotlib.axis.YTick at 0x128d40dd8>,\n",
       "  <matplotlib.axis.YTick at 0x128e6e1d0>,\n",
       "  <matplotlib.axis.YTick at 0x128e6e6a0>,\n",
       "  <matplotlib.axis.YTick at 0x128e6eba8>,\n",
       "  <matplotlib.axis.YTick at 0x128e74198>,\n",
       "  <matplotlib.axis.YTick at 0x128e6e9b0>,\n",
       "  <matplotlib.axis.YTick at 0x128e74710>,\n",
       "  <matplotlib.axis.YTick at 0x128e74c88>,\n",
       "  <matplotlib.axis.YTick at 0x128e7c240>,\n",
       "  <matplotlib.axis.YTick at 0x128e7c7b8>,\n",
       "  <matplotlib.axis.YTick at 0x128e7cd30>,\n",
       "  <matplotlib.axis.YTick at 0x128e832e8>,\n",
       "  <matplotlib.axis.YTick at 0x128e83860>,\n",
       "  <matplotlib.axis.YTick at 0x128e83dd8>,\n",
       "  <matplotlib.axis.YTick at 0x128e83240>,\n",
       "  <matplotlib.axis.YTick at 0x128e7c630>,\n",
       "  <matplotlib.axis.YTick at 0x128e8b278>,\n",
       "  <matplotlib.axis.YTick at 0x128e8b898>,\n",
       "  <matplotlib.axis.YTick at 0x128e8be10>,\n",
       "  <matplotlib.axis.YTick at 0x128e8f3c8>,\n",
       "  <matplotlib.axis.YTick at 0x128e8f940>,\n",
       "  <matplotlib.axis.YTick at 0x128e8feb8>,\n",
       "  <matplotlib.axis.YTick at 0x128e98470>,\n",
       "  <matplotlib.axis.YTick at 0x128e8f7b8>,\n",
       "  <matplotlib.axis.YTick at 0x128e8b978>,\n",
       "  <matplotlib.axis.YTick at 0x128e98c88>,\n",
       "  <matplotlib.axis.YTick at 0x128e98cf8>,\n",
       "  <matplotlib.axis.YTick at 0x128e9f588>,\n",
       "  <matplotlib.axis.YTick at 0x128e9fb00>,\n",
       "  <matplotlib.axis.YTick at 0x128ea6128>,\n",
       "  <matplotlib.axis.YTick at 0x128ea6630>,\n",
       "  <matplotlib.axis.YTick at 0x128ea6ba8>,\n",
       "  <matplotlib.axis.YTick at 0x128eae198>,\n",
       "  <matplotlib.axis.YTick at 0x128ea6a20>,\n",
       "  <matplotlib.axis.YTick at 0x128e98e48>,\n",
       "  <matplotlib.axis.YTick at 0x128eae5f8>,\n",
       "  <matplotlib.axis.YTick at 0x128eaeb70>,\n",
       "  <matplotlib.axis.YTick at 0x128eb6160>,\n",
       "  <matplotlib.axis.YTick at 0x128eb66a0>,\n",
       "  <matplotlib.axis.YTick at 0x128eb6c18>,\n",
       "  <matplotlib.axis.YTick at 0x128ebd1d0>,\n",
       "  <matplotlib.axis.YTick at 0x128ebd748>,\n",
       "  <matplotlib.axis.YTick at 0x128eb6518>,\n",
       "  <matplotlib.axis.YTick at 0x128eae128>,\n",
       "  <matplotlib.axis.YTick at 0x128ebde10>,\n",
       "  <matplotlib.axis.YTick at 0x128ec3208>,\n",
       "  <matplotlib.axis.YTick at 0x128ec3780>,\n",
       "  <matplotlib.axis.YTick at 0x128ec3cf8>,\n",
       "  <matplotlib.axis.YTick at 0x128eca2b0>,\n",
       "  <matplotlib.axis.YTick at 0x128eca828>,\n",
       "  <matplotlib.axis.YTick at 0x128ecada0>,\n",
       "  <matplotlib.axis.YTick at 0x128ed3358>,\n",
       "  <matplotlib.axis.YTick at 0x128eca908>,\n",
       "  <matplotlib.axis.YTick at 0x128eae518>,\n",
       "  <matplotlib.axis.YTick at 0x128ed37f0>,\n",
       "  <matplotlib.axis.YTick at 0x128ed3d68>,\n",
       "  <matplotlib.axis.YTick at 0x128eda320>,\n",
       "  <matplotlib.axis.YTick at 0x128eda898>,\n",
       "  <matplotlib.axis.YTick at 0x128edae10>,\n",
       "  <matplotlib.axis.YTick at 0x128ee13c8>,\n",
       "  <matplotlib.axis.YTick at 0x128ee1940>,\n",
       "  <matplotlib.axis.YTick at 0x128ee1eb8>,\n",
       "  <matplotlib.axis.YTick at 0x128eda940>,\n",
       "  <matplotlib.axis.YTick at 0x128ebde48>,\n",
       "  <matplotlib.axis.YTick at 0x128ee9400>,\n",
       "  <matplotlib.axis.YTick at 0x128ee9978>,\n",
       "  <matplotlib.axis.YTick at 0x128ee9ef0>,\n",
       "  <matplotlib.axis.YTick at 0x128eef4a8>,\n",
       "  <matplotlib.axis.YTick at 0x128eefa20>,\n",
       "  <matplotlib.axis.YTick at 0x128eefe80>,\n",
       "  <matplotlib.axis.YTick at 0x128ef6550>,\n",
       "  <matplotlib.axis.YTick at 0x128eef9e8>,\n",
       "  <matplotlib.axis.YTick at 0x128ec3588>,\n",
       "  <matplotlib.axis.YTick at 0x128ef69e8>,\n",
       "  <matplotlib.axis.YTick at 0x128ef6f60>,\n",
       "  <matplotlib.axis.YTick at 0x128efd518>,\n",
       "  <matplotlib.axis.YTick at 0x128efda90>,\n",
       "  <matplotlib.axis.YTick at 0x128f050b8>,\n",
       "  <matplotlib.axis.YTick at 0x128f055c0>,\n",
       "  <matplotlib.axis.YTick at 0x128f05b38>,\n",
       "  <matplotlib.axis.YTick at 0x128f05668>,\n",
       "  <matplotlib.axis.YTick at 0x128efda58>,\n",
       "  <matplotlib.axis.YTick at 0x128ee9780>,\n",
       "  <matplotlib.axis.YTick at 0x128f0c5f8>,\n",
       "  <matplotlib.axis.YTick at 0x128f0cb70>,\n",
       "  <matplotlib.axis.YTick at 0x128f13160>,\n",
       "  <matplotlib.axis.YTick at 0x128f136a0>,\n",
       "  <matplotlib.axis.YTick at 0x128f13c18>,\n",
       "  <matplotlib.axis.YTick at 0x128f1b1d0>,\n",
       "  <matplotlib.axis.YTick at 0x128f1b748>,\n",
       "  <matplotlib.axis.YTick at 0x128f13748>,\n",
       "  <matplotlib.axis.YTick at 0x128ef6ac8>,\n",
       "  <matplotlib.axis.YTick at 0x128f1bbe0>,\n",
       "  <matplotlib.axis.YTick at 0x128f23198>,\n",
       "  <matplotlib.axis.YTick at 0x128f23710>,\n",
       "  <matplotlib.axis.YTick at 0x128f23c88>,\n",
       "  <matplotlib.axis.YTick at 0x128f28240>,\n",
       "  <matplotlib.axis.YTick at 0x128f287b8>,\n",
       "  <matplotlib.axis.YTick at 0x128f28d30>,\n",
       "  <matplotlib.axis.YTick at 0x128f285c0>,\n",
       "  <matplotlib.axis.YTick at 0x128f237f0>,\n",
       "  <matplotlib.axis.YTick at 0x128f1bcc0>,\n",
       "  <matplotlib.axis.YTick at 0x128ebdb38>],\n",
       " <a list of 105 Text yticklabel objects>)"
      ]
     },
     "execution_count": 176,
     "metadata": {},
     "output_type": "execute_result"
    },
    {
     "data": {
      "image/png": "[encoded data removed]",
      "text/plain": [
       "<Figure size 432x288 with 1 Axes>"
      ]
     },
     "metadata": {
      "needs_background": "light"
     },
     "output_type": "display_data"
    }
   ],
   "source": [
    "for Prevalence_LCL,y in zip(df['Prevalence_LCL'],range(len(df))):\n",
    "    plt.plot((Prevalence_LCL),(y),'ro-',color='orange')\n",
    "plt.yticks(range(len(df)),list(df['District']))"
   ]
  },
  {
   "cell_type": "markdown",
   "id": "c699ac2e",
   "metadata": {},
   "source": [
    "#### Prevalence_UCL"
   ]
  },
  {
   "cell_type": "code",
   "execution_count": 175,
   "id": "51c9197f",
   "metadata": {},
   "outputs": [
    {
     "data": {
      "text/plain": [
       "([<matplotlib.axis.YTick at 0x1283c65f8>,\n",
       "  <matplotlib.axis.YTick at 0x1286c54a8>,\n",
       "  <matplotlib.axis.YTick at 0x1271bd4a8>,\n",
       "  <matplotlib.axis.YTick at 0x128b7b588>,\n",
       "  <matplotlib.axis.YTick at 0x128b7ba58>,\n",
       "  <matplotlib.axis.YTick at 0x128b7bf60>,\n",
       "  <matplotlib.axis.YTick at 0x128b82518>,\n",
       "  <matplotlib.axis.YTick at 0x128b7ba20>,\n",
       "  <matplotlib.axis.YTick at 0x128b82ac8>,\n",
       "  <matplotlib.axis.YTick at 0x128b870f0>,\n",
       "  <matplotlib.axis.YTick at 0x128b875f8>,\n",
       "  <matplotlib.axis.YTick at 0x128b87b70>,\n",
       "  <matplotlib.axis.YTick at 0x128b8d160>,\n",
       "  <matplotlib.axis.YTick at 0x128b8d6a0>,\n",
       "  <matplotlib.axis.YTick at 0x128b8dc18>,\n",
       "  <matplotlib.axis.YTick at 0x128b971d0>,\n",
       "  <matplotlib.axis.YTick at 0x128b8d208>,\n",
       "  <matplotlib.axis.YTick at 0x128b87400>,\n",
       "  <matplotlib.axis.YTick at 0x128b97320>,\n",
       "  <matplotlib.axis.YTick at 0x128b97c50>,\n",
       "  <matplotlib.axis.YTick at 0x128b9e208>,\n",
       "  <matplotlib.axis.YTick at 0x128b9e780>,\n",
       "  <matplotlib.axis.YTick at 0x128b9ecf8>,\n",
       "  <matplotlib.axis.YTick at 0x128ba62b0>,\n",
       "  <matplotlib.axis.YTick at 0x128ba6828>,\n",
       "  <matplotlib.axis.YTick at 0x128ba6da0>,\n",
       "  <matplotlib.axis.YTick at 0x128b9ecc0>,\n",
       "  <matplotlib.axis.YTick at 0x128b972b0>,\n",
       "  <matplotlib.axis.YTick at 0x128ba93c8>,\n",
       "  <matplotlib.axis.YTick at 0x128ba9940>,\n",
       "  <matplotlib.axis.YTick at 0x128ba9eb8>,\n",
       "  <matplotlib.axis.YTick at 0x128bb3470>,\n",
       "  <matplotlib.axis.YTick at 0x128bb39e8>,\n",
       "  <matplotlib.axis.YTick at 0x128bb3f60>,\n",
       "  <matplotlib.axis.YTick at 0x128c33518>,\n",
       "  <matplotlib.axis.YTick at 0x128bb39b0>,\n",
       "  <matplotlib.axis.YTick at 0x128b7bb00>,\n",
       "  <matplotlib.axis.YTick at 0x128c339b0>,\n",
       "  <matplotlib.axis.YTick at 0x128c33f28>,\n",
       "  <matplotlib.axis.YTick at 0x128c3a4e0>,\n",
       "  <matplotlib.axis.YTick at 0x128c3aa58>,\n",
       "  <matplotlib.axis.YTick at 0x128c3aba8>,\n",
       "  <matplotlib.axis.YTick at 0x128c43588>,\n",
       "  <matplotlib.axis.YTick at 0x128c43b00>,\n",
       "  <matplotlib.axis.YTick at 0x128c43630>,\n",
       "  <matplotlib.axis.YTick at 0x128c3aa20>,\n",
       "  <matplotlib.axis.YTick at 0x128ba9748>,\n",
       "  <matplotlib.axis.YTick at 0x128c4b5c0>,\n",
       "  <matplotlib.axis.YTick at 0x128c4bb38>,\n",
       "  <matplotlib.axis.YTick at 0x128c4f160>,\n",
       "  <matplotlib.axis.YTick at 0x128c4f668>,\n",
       "  <matplotlib.axis.YTick at 0x128c4fbe0>,\n",
       "  <matplotlib.axis.YTick at 0x128c58198>,\n",
       "  <matplotlib.axis.YTick at 0x128c58710>,\n",
       "  <matplotlib.axis.YTick at 0x128c4fa58>,\n",
       "  <matplotlib.axis.YTick at 0x128ba91d0>,\n",
       "  <matplotlib.axis.YTick at 0x128c58ba8>,\n",
       "  <matplotlib.axis.YTick at 0x128c5e198>,\n",
       "  <matplotlib.axis.YTick at 0x128c5e6d8>,\n",
       "  <matplotlib.axis.YTick at 0x128c5ec50>,\n",
       "  <matplotlib.axis.YTick at 0x128c65208>,\n",
       "  <matplotlib.axis.YTick at 0x128c65780>,\n",
       "  <matplotlib.axis.YTick at 0x128c65cf8>,\n",
       "  <matplotlib.axis.YTick at 0x128c65588>,\n",
       "  <matplotlib.axis.YTick at 0x128c5e7b8>,\n",
       "  <matplotlib.axis.YTick at 0x128b97cf8>,\n",
       "  <matplotlib.axis.YTick at 0x128c6f7b8>,\n",
       "  <matplotlib.axis.YTick at 0x128c6fd30>,\n",
       "  <matplotlib.axis.YTick at 0x128c772e8>,\n",
       "  <matplotlib.axis.YTick at 0x128c77860>,\n",
       "  <matplotlib.axis.YTick at 0x128c77dd8>,\n",
       "  <matplotlib.axis.YTick at 0x128c7d390>,\n",
       "  <matplotlib.axis.YTick at 0x128c7d908>,\n",
       "  <matplotlib.axis.YTick at 0x128c77940>,\n",
       "  <matplotlib.axis.YTick at 0x128c3a588>,\n",
       "  <matplotlib.axis.YTick at 0x128c7dda0>,\n",
       "  <matplotlib.axis.YTick at 0x128c83358>,\n",
       "  <matplotlib.axis.YTick at 0x128c838d0>,\n",
       "  <matplotlib.axis.YTick at 0x128c83e48>,\n",
       "  <matplotlib.axis.YTick at 0x128c8a400>,\n",
       "  <matplotlib.axis.YTick at 0x128c8a978>,\n",
       "  <matplotlib.axis.YTick at 0x128c8aef0>,\n",
       "  <matplotlib.axis.YTick at 0x128c8a4a8>,\n",
       "  <matplotlib.axis.YTick at 0x128c83898>,\n",
       "  <matplotlib.axis.YTick at 0x128c924a8>,\n",
       "  <matplotlib.axis.YTick at 0x128c929b0>,\n",
       "  <matplotlib.axis.YTick at 0x128c92f28>,\n",
       "  <matplotlib.axis.YTick at 0x128c974e0>,\n",
       "  <matplotlib.axis.YTick at 0x128c97a58>,\n",
       "  <matplotlib.axis.YTick at 0x128c97ba8>,\n",
       "  <matplotlib.axis.YTick at 0x128ca1588>,\n",
       "  <matplotlib.axis.YTick at 0x128ca1b00>,\n",
       "  <matplotlib.axis.YTick at 0x128c97a20>,\n",
       "  <matplotlib.axis.YTick at 0x128c83438>,\n",
       "  <matplotlib.axis.YTick at 0x128ca1400>,\n",
       "  <matplotlib.axis.YTick at 0x128ca9550>,\n",
       "  <matplotlib.axis.YTick at 0x128ca9ac8>,\n",
       "  <matplotlib.axis.YTick at 0x128caf0f0>,\n",
       "  <matplotlib.axis.YTick at 0x128caf5f8>,\n",
       "  <matplotlib.axis.YTick at 0x128cafb70>,\n",
       "  <matplotlib.axis.YTick at 0x128cb6160>,\n",
       "  <matplotlib.axis.YTick at 0x128caf400>,\n",
       "  <matplotlib.axis.YTick at 0x128ca9630>,\n",
       "  <matplotlib.axis.YTick at 0x128c92400>,\n",
       "  <matplotlib.axis.YTick at 0x128ba6d68>],\n",
       " <a list of 105 Text yticklabel objects>)"
      ]
     },
     "execution_count": 175,
     "metadata": {},
     "output_type": "execute_result"
    },
    {
     "data": {
      "image/png": "[encoded data removed]",
      "text/plain": [
       "<Figure size 432x288 with 1 Axes>"
      ]
     },
     "metadata": {
      "needs_background": "light"
     },
     "output_type": "display_data"
    }
   ],
   "source": [
    "for Prevalence_UCL,y in zip(df['Prevalence_UCL'],range(len(df))):\n",
    "    plt.plot((Prevalence_UCL),(y),'ro-',color='orange')\n",
    "plt.yticks(range(len(df)),list(df['District']))"
   ]
  },
  {
   "cell_type": "code",
   "execution_count": null,
   "id": "a4228707",
   "metadata": {},
   "outputs": [],
   "source": []
  }
 ],
 "metadata": {
  "kernelspec": {
   "display_name": "Python 3 (ipykernel)",
   "language": "python",
   "name": "python3"
  },
  "language_info": {
   "codemirror_mode": {
    "name": "ipython",
    "version": 3
   },
   "file_extension": ".py",
   "mimetype": "text/x-python",
   "name": "python",
   "nbconvert_exporter": "python",
   "pygments_lexer": "ipython3",
   "version": "3.7.3"
  }
 },
 "nbformat": 4,
 "nbformat_minor": 5
}
